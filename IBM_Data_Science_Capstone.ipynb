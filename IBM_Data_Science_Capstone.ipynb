{
  "nbformat": 4,
  "nbformat_minor": 0,
  "metadata": {
    "colab": {
      "name": "Untitled2.ipynb",
      "provenance": [],
      "authorship_tag": "ABX9TyMi4p1iPOZ1j8R0CFPu55B6"
    },
    "kernelspec": {
      "name": "python3",
      "display_name": "Python 3"
    },
    "language_info": {
      "name": "python"
    }
  },
  "cells": [
    {
      "cell_type": "markdown",
      "metadata": {
        "id": "Dtcl7EIWY-fT"
      },
      "source": [
        "##To be used mainly for the capstone project...\n",
        "updates incoming"
      ]
    },
    {
      "cell_type": "code",
      "metadata": {
        "id": "ItVxSHozYsnd"
      },
      "source": [
        "Import pandas as pd.\n",
        "Import numpy as np."
      ],
      "execution_count": null,
      "outputs": []
    },
    {
      "cell_type": "code",
      "metadata": {
        "colab": {
          "base_uri": "https://localhost:8080/"
        },
        "id": "2GNRXX1-ZdIa",
        "outputId": "2e2ed903-cf72-43fe-feed-aa40a5163584"
      },
      "source": [
        "print(\"Hello Capstone Project Course!\")"
      ],
      "execution_count": 1,
      "outputs": [
        {
          "output_type": "stream",
          "text": [
            "Hello Capstone Project Course!\n"
          ],
          "name": "stdout"
        }
      ]
    }
  ]
}