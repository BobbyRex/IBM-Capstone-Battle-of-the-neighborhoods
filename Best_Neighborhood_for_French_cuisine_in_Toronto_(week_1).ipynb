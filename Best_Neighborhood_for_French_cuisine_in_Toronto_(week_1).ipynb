{
  "nbformat": 4,
  "nbformat_minor": 0,
  "metadata": {
    "colab": {
      "name": "Best Neighborhood for French cuisine in Toronto (week 1).ipynb",
      "provenance": [],
      "authorship_tag": "ABX9TyMBkJftRQnXX2pt4Rs8MTfv",
      "include_colab_link": true
    },
    "kernelspec": {
      "name": "python3",
      "display_name": "Python 3"
    },
    "language_info": {
      "name": "python"
    }
  },
  "cells": [
    {
      "cell_type": "markdown",
      "metadata": {
        "id": "view-in-github",
        "colab_type": "text"
      },
      "source": [
        "<a href=\"https://colab.research.google.com/github/BobbyRex/IBM-Capstone-Battle-of-the-neighborhoods/blob/Final/Best_Neighborhood_for_French_cuisine_in_Toronto_(week_1).ipynb\" target=\"_parent\"><img src=\"https://colab.research.google.com/assets/colab-badge.svg\" alt=\"Open In Colab\"/></a>"
      ]
    },
    {
      "cell_type": "markdown",
      "metadata": {
        "id": "Zhbgf66QAJtj"
      },
      "source": [
        "#Using Foursquare data and neighbourhood profiles to find the best spot in Toronto to start up a French cuisine\n",
        "\n",
        "####*Background* \n",
        "According to the last census, more than 50,000 Torontonians identified themselves as francophones. Every year roughly 1,000 French-speaking immigrants settle in Toronto, with the occasional spike – after the 2011 earthquake in Haiti, for example [1](https://www.theglobeandmail.com/news/toronto/a-cultural-shift-for-toronto-as-invisible-francophones-settle-in/article26232519/). There is, however, no defined francophone neighborhood in Toronto. For those who wish to start up a French cuisine, this project aims to select the best neighborhood in Toronto for this matter. Variables taken into account includes e.g. french speaking rate, average income, crime rate, migration rate, restaurant frequency.\n",
        "\n",
        "####*Material and methods*\n",
        "Datasets on  [Toronto neighborhood profiles](https://open.toronto.ca/dataset/neighbourhood-profiles/) and crime statistics from the [Toronto Police Service](https://data.torontopolice.on.ca/pages/asr-open-data) will be merged. Restaurants, grouped by neighborhood, will be obtained through requests from the Foursquare API. A score will be calculated based on selected variables predicted to influence the decision. Top scoring neighborhoods will be suberimposed over a map of Toronto using Folium. The relative contribution of each selected variable to the final score will be calculated and plotted. The provided material will serve as basis for further exploration of the neighborhoods by the customer wishing to start up a French Cuisine in Toronto."
      ]
    }
  ]
}